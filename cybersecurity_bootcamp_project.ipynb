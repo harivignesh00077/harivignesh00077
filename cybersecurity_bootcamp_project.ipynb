{
  "nbformat": 4,
  "nbformat_minor": 0,
  "metadata": {
    "colab": {
      "name": "cybersecurity bootcamp project",
      "provenance": [],
      "collapsed_sections": [],
      "authorship_tag": "ABX9TyMU2N1HaLKNaUdTLZiQD7T6",
      "include_colab_link": true
    },
    "kernelspec": {
      "name": "python3",
      "display_name": "Python 3"
    },
    "language_info": {
      "name": "python"
    }
  },
  "cells": [
    {
      "cell_type": "markdown",
      "metadata": {
        "id": "view-in-github",
        "colab_type": "text"
      },
      "source": [
        "<a href=\"https://colab.research.google.com/github/harivignesh00077/harivignesh00077/blob/main/cybersecurity_bootcamp_project.ipynb\" target=\"_parent\"><img src=\"https://colab.research.google.com/assets/colab-badge.svg\" alt=\"Open In Colab\"/></a>"
      ]
    },
    {
      "cell_type": "code",
      "metadata": {
        "id": "k3TkYUzUcTSU",
        "cellView": "code"
      },
      "source": [
        "#@title Default title text\n",
        "import requests\n",
        "from datetime import datetime\n",
        " \n",
        "api_key = '83b9924274c81152a4ac52cd1cf7117d'\n",
        "location = input(\"Enter the city name: \")\n",
        " \n",
        "complete_api_link = \"http://api.openweathermap.org/data/2.5/weather?q=\"+location+\"&APPID=\"+api_key\n",
        "api_link = requests.get(complete_api_link)\n",
        "api_data = api_link.json()\n",
        " \n",
        " \n",
        "temp_city = ((api_data['main']['temp']) - 273.15)\n",
        "weather_desc = api_data['weather'][0]['description']\n",
        "hmdt = api_data['main']['humidity']\n",
        "wind_spd = api_data['wind']['speed']\n",
        "date_time = datetime.now().strftime(\"%d %b %Y | %I:%M:%S %p\")\n",
        "pressure_city = api_data['main']['pressure']\n",
        " \n",
        " \n",
        "print (\"| ------------------------------------------------------------- \")\n",
        "print (\"| Weather Stats for - {}  || {}     \".format(location.upper(), date_time))\n",
        "print (\"| ------------------------------------------------------------- \")\n",
        " \n",
        "print (\"| Current temperature is: {:.2f} deg C\".format(temp_city))\n",
        "print (\"| Current weather desc  :\",weather_desc)\n",
        "print (\"| Current Humidity      :\",hmdt, '%')\n",
        "print (\"| Current wind speed    :\",wind_spd ,'kmph')\n",
        "print (\"| Current pressure      :\",pressure_city,'pa')\n",
        " \n",
        "print (\"|\")\n",
        "print (\"| **************************************************************  \")\n",
        " \n",
        " \n",
        " \n",
        "txtlist = [temp_city,weather_desc,hmdt,wind_spd,date_time,pressure_city]\n",
        " \n",
        "with open(\"textfile.txt\" , mode= 'w' ,encoding= 'utf-8') as f :     \n",
        "                                     \n",
        "    f.write(\" ------------------------------------------------------------- \\n \")   \n",
        "    f.write(\" Weather Stats for - {}  || {}\".format(location.upper(), date_time))\n",
        "    f.write(\" \\n ------------------------------------------------------------- \\n\")\n",
        "    f.write(\" Current temperature is: {:.2f} deg C\\n\".format(txtlist[0]))\n",
        "    \n",
        "    f.write(\" {},{} \\n\".format(\"Current weather desc  :\" ,txtlist[1]))\n",
        "    f.write(\" {},{},{} \\n\".format(\"Current Humidity      :\",txtlist[2],\"%\"))\n",
        "    f.write(\" {},{},{} \\n\".format(\"Current wind speed    :\",txtlist[3],\"kmph\"))\n",
        "    f.write(\" Current pressure is : {} pa\".format(txtlist[5]))"
      ],
      "execution_count": null,
      "outputs": []
    },
    {
      "cell_type": "code",
      "metadata": {
        "id": "kgUblW1LzNUI"
      },
      "source": [
        ""
      ],
      "execution_count": null,
      "outputs": []
    }
  ]
}